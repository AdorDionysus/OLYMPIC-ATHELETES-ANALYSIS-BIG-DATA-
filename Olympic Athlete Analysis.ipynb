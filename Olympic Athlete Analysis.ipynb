{
 "cells": [
  {
   "cell_type": "markdown",
   "id": "7dfb4e09-7c97-451e-8962-355869a4534a",
   "metadata": {},
   "source": [
    "IMPORTING"
   ]
  },
  {
   "cell_type": "code",
   "execution_count": 2,
   "id": "1b9f4b4d-a86f-4487-89e3-cfe3e4eee6c2",
   "metadata": {},
   "outputs": [],
   "source": [
    "import pandas as pd\n",
    "import matplotlib.pyplot as plt\n",
    "import seaborn as sns"
   ]
  },
  {
   "cell_type": "markdown",
   "id": "08248b07-da88-4358-8dd6-e7071b58af61",
   "metadata": {},
   "source": [
    "IMPORT ATHLETES OLYMPICS RAW DATA  USING URL\n"
   ]
  },
  {
   "cell_type": "code",
   "execution_count": 4,
   "id": "ea2bc002-469a-4f7c-a1d3-1f578474f9dc",
   "metadata": {},
   "outputs": [],
   "source": [
    "data = pd.read_csv(\"https://raw.githubusercontent.com/KeithGalli/Olympics-Dataset/refs/heads/master/athletes/bios.csv\")"
   ]
  },
  {
   "cell_type": "markdown",
   "id": "d94be44f-f609-4f5f-a02c-d58d7192f4bc",
   "metadata": {},
   "source": [
    "CREATE NEW DATAFRAME AND COPY THE DATA\n"
   ]
  },
  {
   "cell_type": "code",
   "execution_count": 6,
   "id": "f64d28f5-7e49-4a12-b842-940aba0115ea",
   "metadata": {
    "scrolled": true
   },
   "outputs": [],
   "source": [
    "df = data\n"
   ]
  },
  {
   "cell_type": "markdown",
   "id": "9e34336a-b4b2-474a-91f3-d266dbbc23ca",
   "metadata": {},
   "source": [
    "# CHECKING THE DTYPES AND INFO"
   ]
  },
  {
   "cell_type": "markdown",
   "id": "721aa207-ba74-4ea9-8e27-e93b5697e944",
   "metadata": {},
   "source": [
    "df.dtypes\n",
    "df.info()"
   ]
  },
  {
   "cell_type": "markdown",
   "id": "b78dca25-5da9-41c1-a6cb-4dbaf27b8f89",
   "metadata": {},
   "source": [
    "CHECKING THE DUPLICATE VALUES ON ATHELETE_ID (THIS IS THE IMPORTANT COLUMNS ON THIS DATA AND VALUE ON THIS COLUMN  CAN'T BE DUPLICATED AND NULL )"
   ]
  },
  {
   "cell_type": "code",
   "execution_count": 10,
   "id": "f6107ee1-f89e-4170-b522-4f0e5bab988a",
   "metadata": {
    "scrolled": true
   },
   "outputs": [
    {
     "data": {
      "text/plain": [
       "0"
      ]
     },
     "execution_count": 10,
     "metadata": {},
     "output_type": "execute_result"
    }
   ],
   "source": [
    "#CHECKING THE NULL VALUES ON ATHLETE I_D COLUMNS\n",
    "df['athlete_id'].isnull().sum()\n",
    "#CHECKING DUPLICATED VALUES ON ATHLETE I_D COLUMNS\n",
    "df['athlete_id'].duplicated().sum()\n"
   ]
  },
  {
   "cell_type": "markdown",
   "id": "0d264abe-c703-4264-9824-7a17162fb421",
   "metadata": {},
   "source": [
    "# RENAMING THE DataFrame COLUMNS AND REPLACING THE SPACE INTO UNDERLINE"
   ]
  },
  {
   "cell_type": "code",
   "execution_count": 12,
   "id": "0ec04e1e-80f2-4d4e-8f0b-f00b73f8e775",
   "metadata": {},
   "outputs": [],
   "source": [
    "df.columns\n",
    "df = df.rename(columns={'Full name' : 'Full_Name','athlete_id':'Athlete_id','Other names': 'Other_Names',\n",
    "                        'Original name': 'Original_Name','Name order':'Name_order','Used name':'Used_Name'})\n"
   ]
  },
  {
   "cell_type": "markdown",
   "id": "a2ec5081-5bf4-4653-85b7-5f6fb147e5e0",
   "metadata": {},
   "source": [
    "# REMOVING BULLET POINT • ON Full_Name AND Used_Name columns\n"
   ]
  },
  {
   "cell_type": "code",
   "execution_count": 14,
   "id": "5b0ac7ca-46a3-40c3-86c1-ded643006106",
   "metadata": {},
   "outputs": [],
   "source": [
    "df['Used_Name'] = df['Used_Name'].str.replace('•',' ')\n",
    "df['Full_Name'] = df['Full_Name'].str.replace('•',' ')\n",
    "df.head()\n",
    "#  AND ALSO - TO SPACE\n",
    "df['Full_Name'] = df['Full_Name'].str.replace('-',' ')"
   ]
  },
  {
   "cell_type": "markdown",
   "id": "e41e0cbf-1e6f-4a5d-9c1d-133b3c762401",
   "metadata": {},
   "source": [
    "# SPLIT THE MEASUREMENTS COLUMNS TO HEIGHT_CM & WEIGHT_KG  COLUMNS AND CHANGE THE DTYPES TO NUMERIC"
   ]
  },
  {
   "cell_type": "code",
   "execution_count": 16,
   "id": "74de9df9-1ef7-4b42-ab8d-552410f8a144",
   "metadata": {},
   "outputs": [],
   "source": [
    "df[['Height_cm','Weight_kg'] ]= df['Measurements'].str.split(\"/\",expand=True)\n",
    "df['Height_cm'] = pd.to_numeric(df['Height_cm'].str.strip(\" cm\"),errors='coerce')\n",
    "df['Weight_kg'] = pd.to_numeric(df['Weight_kg'].str.strip(' kg'),errors='coerce')\n",
    "\n"
   ]
  },
  {
   "cell_type": "code",
   "execution_count": 17,
   "id": "f1f50589-f8b5-4f4c-bacc-d2674f94b4e9",
   "metadata": {},
   "outputs": [],
   "source": [
    "# AND AFTER THAT I'M GONNA DROP THE MEASUREMENTS COLUMNS BECAUSE I ALREADY SPLITTED THE HEIGHT AND CM\n",
    "df = df.drop(columns=['Measurements'],axis=0)"
   ]
  },
  {
   "cell_type": "markdown",
   "id": "4a9ec3a6-cce8-44bb-9daf-0034c8a8e428",
   "metadata": {},
   "source": [
    "# EXTRACT BORN AND DIED COLUMNS AND CHANGE THE DATA TYPES TO DATETIME"
   ]
  },
  {
   "cell_type": "code",
   "execution_count": 19,
   "id": "260e2251-5ead-45bb-81ce-dbde1729151e",
   "metadata": {},
   "outputs": [],
   "source": [
    "df['Birth_Year'] = df['Born'].str.extract(r'(\\d+ \\w+ \\d{4})')\n",
    "df['Died_Year'] = df['Died'].str.extract(r'(\\d+ \\w+ \\d{4})')\n",
    "df['Birth_Year'] = pd.to_datetime(df['Birth_Year'],format='mixed',errors='coerce')\n",
    "df['Died_Year'] = pd.to_datetime(df['Died_Year'],format='mixed',errors='coerce')\n"
   ]
  },
  {
   "cell_type": "markdown",
   "id": "f87547c2-4737-4d79-8fbb-b009907bb089",
   "metadata": {},
   "source": [
    "# EXTRACT AND CREATE CITY,REGION AND COUNTRY COLUMN"
   ]
  },
  {
   "cell_type": "code",
   "execution_count": 21,
   "id": "babfca27-2b00-42d6-ac87-a56ead940e00",
   "metadata": {
    "scrolled": true
   },
   "outputs": [],
   "source": [
    "df['Born'] = df['Born'].str.replace('(', '')\n",
    "df['Born'] = df['Born'].str.replace(')', '')\n",
    "\n",
    "df[['City','Region','Country']] = df['Born'].str.extract(r'in ([\\w\\s-]+), ([\\w\\s-]+) (\\w+)',expand=True)\n",
    "\n"
   ]
  },
  {
   "cell_type": "markdown",
   "id": "53f77c1f-f178-480c-ba6c-8ead4a936513",
   "metadata": {},
   "source": [
    "# DROP UNIMPORTANT COLUMNS "
   ]
  },
  {
   "cell_type": "code",
   "execution_count": 23,
   "id": "9ae08ca5-44bb-41e1-87fc-292c9b43bd62",
   "metadata": {},
   "outputs": [],
   "source": [
    "df.head(2) \n",
    "df.drop(columns=['Born','Died','Affiliations','Original_Name','Other_Names','Nick/petnames','Nationality','Title(s)'],inplace=True)"
   ]
  },
  {
   "cell_type": "code",
   "execution_count": 24,
   "id": "244ae007-61a1-4b2e-aa28-dc920689735e",
   "metadata": {},
   "outputs": [
    {
     "data": {
      "text/html": [
       "<div>\n",
       "<style scoped>\n",
       "    .dataframe tbody tr th:only-of-type {\n",
       "        vertical-align: middle;\n",
       "    }\n",
       "\n",
       "    .dataframe tbody tr th {\n",
       "        vertical-align: top;\n",
       "    }\n",
       "\n",
       "    .dataframe thead th {\n",
       "        text-align: right;\n",
       "    }\n",
       "</style>\n",
       "<table border=\"1\" class=\"dataframe\">\n",
       "  <thead>\n",
       "    <tr style=\"text-align: right;\">\n",
       "      <th></th>\n",
       "      <th>Roles</th>\n",
       "      <th>Sex</th>\n",
       "      <th>Full_Name</th>\n",
       "      <th>Used_Name</th>\n",
       "      <th>NOC</th>\n",
       "      <th>Athlete_id</th>\n",
       "      <th>Name_order</th>\n",
       "      <th>Height_cm</th>\n",
       "      <th>Weight_kg</th>\n",
       "      <th>Birth_Year</th>\n",
       "      <th>Died_Year</th>\n",
       "      <th>City</th>\n",
       "      <th>Region</th>\n",
       "      <th>Country</th>\n",
       "    </tr>\n",
       "  </thead>\n",
       "  <tbody>\n",
       "    <tr>\n",
       "      <th>0</th>\n",
       "      <td>Competed in Olympic Games</td>\n",
       "      <td>Male</td>\n",
       "      <td>François Joseph Marie Antoine \"Jean François\" ...</td>\n",
       "      <td>Jean-François Blanchy</td>\n",
       "      <td>France</td>\n",
       "      <td>1</td>\n",
       "      <td>NaN</td>\n",
       "      <td>NaN</td>\n",
       "      <td>NaN</td>\n",
       "      <td>1886-12-12</td>\n",
       "      <td>1960-10-02</td>\n",
       "      <td>Bordeaux</td>\n",
       "      <td>Gironde</td>\n",
       "      <td>FRA</td>\n",
       "    </tr>\n",
       "    <tr>\n",
       "      <th>1</th>\n",
       "      <td>Competed in Olympic Games</td>\n",
       "      <td>Male</td>\n",
       "      <td>Arnaud Benjamin Boetsch</td>\n",
       "      <td>Arnaud Boetsch</td>\n",
       "      <td>France</td>\n",
       "      <td>2</td>\n",
       "      <td>NaN</td>\n",
       "      <td>183.0</td>\n",
       "      <td>76.0</td>\n",
       "      <td>1969-04-01</td>\n",
       "      <td>NaT</td>\n",
       "      <td>Meulan</td>\n",
       "      <td>Yvelines</td>\n",
       "      <td>FRA</td>\n",
       "    </tr>\n",
       "    <tr>\n",
       "      <th>2</th>\n",
       "      <td>Competed in Olympic Games • Administrator</td>\n",
       "      <td>Male</td>\n",
       "      <td>Jean Laurent Robert Borotra</td>\n",
       "      <td>Jean Borotra</td>\n",
       "      <td>France</td>\n",
       "      <td>3</td>\n",
       "      <td>NaN</td>\n",
       "      <td>183.0</td>\n",
       "      <td>76.0</td>\n",
       "      <td>1898-08-13</td>\n",
       "      <td>1994-07-17</td>\n",
       "      <td>Biarritz</td>\n",
       "      <td>Pyrénées-Atlantiques</td>\n",
       "      <td>FRA</td>\n",
       "    </tr>\n",
       "    <tr>\n",
       "      <th>3</th>\n",
       "      <td>Competed in Olympic Games</td>\n",
       "      <td>Male</td>\n",
       "      <td>Jacques Marie Stanislas Jean Brugnon</td>\n",
       "      <td>Jacques Brugnon</td>\n",
       "      <td>France</td>\n",
       "      <td>4</td>\n",
       "      <td>NaN</td>\n",
       "      <td>168.0</td>\n",
       "      <td>64.0</td>\n",
       "      <td>1895-05-11</td>\n",
       "      <td>1978-03-20</td>\n",
       "      <td>Paris VIIIe</td>\n",
       "      <td>Paris</td>\n",
       "      <td>FRA</td>\n",
       "    </tr>\n",
       "    <tr>\n",
       "      <th>4</th>\n",
       "      <td>Competed in Olympic Games</td>\n",
       "      <td>Male</td>\n",
       "      <td>Henry Albert Canet</td>\n",
       "      <td>Albert Canet</td>\n",
       "      <td>France</td>\n",
       "      <td>5</td>\n",
       "      <td>NaN</td>\n",
       "      <td>NaN</td>\n",
       "      <td>NaN</td>\n",
       "      <td>1878-04-17</td>\n",
       "      <td>1930-07-25</td>\n",
       "      <td>Wandsworth</td>\n",
       "      <td>England</td>\n",
       "      <td>GBR</td>\n",
       "    </tr>\n",
       "  </tbody>\n",
       "</table>\n",
       "</div>"
      ],
      "text/plain": [
       "                                       Roles   Sex  \\\n",
       "0                  Competed in Olympic Games  Male   \n",
       "1                  Competed in Olympic Games  Male   \n",
       "2  Competed in Olympic Games • Administrator  Male   \n",
       "3                  Competed in Olympic Games  Male   \n",
       "4                  Competed in Olympic Games  Male   \n",
       "\n",
       "                                           Full_Name              Used_Name  \\\n",
       "0  François Joseph Marie Antoine \"Jean François\" ...  Jean-François Blanchy   \n",
       "1                            Arnaud Benjamin Boetsch         Arnaud Boetsch   \n",
       "2                        Jean Laurent Robert Borotra           Jean Borotra   \n",
       "3               Jacques Marie Stanislas Jean Brugnon        Jacques Brugnon   \n",
       "4                                 Henry Albert Canet           Albert Canet   \n",
       "\n",
       "      NOC  Athlete_id Name_order  Height_cm  Weight_kg Birth_Year  Died_Year  \\\n",
       "0  France           1        NaN        NaN        NaN 1886-12-12 1960-10-02   \n",
       "1  France           2        NaN      183.0       76.0 1969-04-01        NaT   \n",
       "2  France           3        NaN      183.0       76.0 1898-08-13 1994-07-17   \n",
       "3  France           4        NaN      168.0       64.0 1895-05-11 1978-03-20   \n",
       "4  France           5        NaN        NaN        NaN 1878-04-17 1930-07-25   \n",
       "\n",
       "          City                Region Country  \n",
       "0     Bordeaux               Gironde     FRA  \n",
       "1       Meulan              Yvelines     FRA  \n",
       "2     Biarritz  Pyrénées-Atlantiques     FRA  \n",
       "3  Paris VIIIe                 Paris     FRA  \n",
       "4   Wandsworth               England     GBR  "
      ]
     },
     "execution_count": 24,
     "metadata": {},
     "output_type": "execute_result"
    }
   ],
   "source": [
    "df.head()"
   ]
  },
  {
   "cell_type": "markdown",
   "id": "b20e7202-4095-4209-b298-7f0e94cfb55c",
   "metadata": {},
   "source": [
    "# ANALYZING THE CLEAN DATA"
   ]
  },
  {
   "cell_type": "code",
   "execution_count": 26,
   "id": "82811e58-41f8-4bfe-a044-1cef3be88586",
   "metadata": {},
   "outputs": [
    {
     "data": {
      "image/png": "[encoded data removed]",
      "text/plain": [
       "<Figure size 640x480 with 1 Axes>"
      ]
     },
     "metadata": {},
     "output_type": "display_data"
    }
   ],
   "source": [
    "#TOP 5 COUNTRIES MOST ATHELETES PARTICIPANT IN OLYMPICS\n",
    "df['count'] = 1\n",
    "top5 = df.groupby('Country')['count'].sum().sort_values(ascending=False).head(5)\n",
    "top5 = pd.DataFrame(top5)\n",
    "\n",
    "\n",
    "sns.barplot(x=top5.index,y='count',data=top5)\n",
    "plt.title(\"TOP 5 COUNTRIES MOST ATHLETE PARTICIPANT\")\n",
    "plt.show()"
   ]
  },
  {
   "cell_type": "markdown",
   "id": "887d61bf-c27f-44c8-864f-cfd3dbe357a1",
   "metadata": {},
   "source": [
    "# TALLEST ATHLETE IN OLYMPICS"
   ]
  },
  {
   "cell_type": "code",
   "execution_count": 28,
   "id": "85251029-20ed-444c-b7fc-807cee3028ce",
   "metadata": {},
   "outputs": [
    {
     "data": {
      "text/html": [
       "<div>\n",
       "<style scoped>\n",
       "    .dataframe tbody tr th:only-of-type {\n",
       "        vertical-align: middle;\n",
       "    }\n",
       "\n",
       "    .dataframe tbody tr th {\n",
       "        vertical-align: top;\n",
       "    }\n",
       "\n",
       "    .dataframe thead th {\n",
       "        text-align: right;\n",
       "    }\n",
       "</style>\n",
       "<table border=\"1\" class=\"dataframe\">\n",
       "  <thead>\n",
       "    <tr style=\"text-align: right;\">\n",
       "      <th></th>\n",
       "      <th>Roles</th>\n",
       "      <th>Sex</th>\n",
       "      <th>Full_Name</th>\n",
       "      <th>Used_Name</th>\n",
       "      <th>NOC</th>\n",
       "      <th>Athlete_id</th>\n",
       "      <th>Name_order</th>\n",
       "      <th>Height_cm</th>\n",
       "      <th>Weight_kg</th>\n",
       "      <th>Birth_Year</th>\n",
       "      <th>Died_Year</th>\n",
       "      <th>City</th>\n",
       "      <th>Region</th>\n",
       "      <th>Country</th>\n",
       "      <th>count</th>\n",
       "    </tr>\n",
       "  </thead>\n",
       "  <tbody>\n",
       "    <tr>\n",
       "      <th>89070</th>\n",
       "      <td>Competed in Olympic Games • Other</td>\n",
       "      <td>Male</td>\n",
       "      <td>Yao Ming</td>\n",
       "      <td>Yao Ming</td>\n",
       "      <td>People's Republic of China</td>\n",
       "      <td>89782</td>\n",
       "      <td>Oriental</td>\n",
       "      <td>226.0</td>\n",
       "      <td>141.0</td>\n",
       "      <td>1980-09-12</td>\n",
       "      <td>NaT</td>\n",
       "      <td>Xuhui District</td>\n",
       "      <td>Shanghai</td>\n",
       "      <td>CHN</td>\n",
       "      <td>1</td>\n",
       "    </tr>\n",
       "  </tbody>\n",
       "</table>\n",
       "</div>"
      ],
      "text/plain": [
       "                                   Roles   Sex Full_Name Used_Name  \\\n",
       "89070  Competed in Olympic Games • Other  Male  Yao Ming  Yao Ming   \n",
       "\n",
       "                              NOC  Athlete_id Name_order  Height_cm  \\\n",
       "89070  People's Republic of China       89782   Oriental      226.0   \n",
       "\n",
       "       Weight_kg Birth_Year Died_Year            City    Region Country  count  \n",
       "89070      141.0 1980-09-12       NaT  Xuhui District  Shanghai     CHN      1  "
      ]
     },
     "execution_count": 28,
     "metadata": {},
     "output_type": "execute_result"
    }
   ],
   "source": [
    "df.nlargest(1,'Height_cm')"
   ]
  },
  {
   "cell_type": "markdown",
   "id": "03bbfee9-7ba0-4eaf-90fe-92aeb6b5b8fc",
   "metadata": {},
   "source": [
    "# SMALLEST ATHELETE IN OLYMPICS"
   ]
  },
  {
   "cell_type": "code",
   "execution_count": 30,
   "id": "aa36540e-6c22-46b3-a49f-e1989074f46f",
   "metadata": {},
   "outputs": [
    {
     "data": {
      "text/html": [
       "<div>\n",
       "<style scoped>\n",
       "    .dataframe tbody tr th:only-of-type {\n",
       "        vertical-align: middle;\n",
       "    }\n",
       "\n",
       "    .dataframe tbody tr th {\n",
       "        vertical-align: top;\n",
       "    }\n",
       "\n",
       "    .dataframe thead th {\n",
       "        text-align: right;\n",
       "    }\n",
       "</style>\n",
       "<table border=\"1\" class=\"dataframe\">\n",
       "  <thead>\n",
       "    <tr style=\"text-align: right;\">\n",
       "      <th></th>\n",
       "      <th>Roles</th>\n",
       "      <th>Sex</th>\n",
       "      <th>Full_Name</th>\n",
       "      <th>Used_Name</th>\n",
       "      <th>NOC</th>\n",
       "      <th>Athlete_id</th>\n",
       "      <th>Name_order</th>\n",
       "      <th>Height_cm</th>\n",
       "      <th>Weight_kg</th>\n",
       "      <th>Birth_Year</th>\n",
       "      <th>Died_Year</th>\n",
       "      <th>City</th>\n",
       "      <th>Region</th>\n",
       "      <th>Country</th>\n",
       "      <th>count</th>\n",
       "    </tr>\n",
       "  </thead>\n",
       "  <tbody>\n",
       "    <tr>\n",
       "      <th>4515</th>\n",
       "      <td>Competed in Olympic Games</td>\n",
       "      <td>Male</td>\n",
       "      <td>Lyton Levison Mphande</td>\n",
       "      <td>Lyton Mphande</td>\n",
       "      <td>Malawi</td>\n",
       "      <td>4530</td>\n",
       "      <td>NaN</td>\n",
       "      <td>127.0</td>\n",
       "      <td>62.0</td>\n",
       "      <td>1963-05-14</td>\n",
       "      <td>NaT</td>\n",
       "      <td>NaN</td>\n",
       "      <td>NaN</td>\n",
       "      <td>NaN</td>\n",
       "      <td>1</td>\n",
       "    </tr>\n",
       "  </tbody>\n",
       "</table>\n",
       "</div>"
      ],
      "text/plain": [
       "                          Roles   Sex              Full_Name      Used_Name  \\\n",
       "4515  Competed in Olympic Games  Male  Lyton Levison Mphande  Lyton Mphande   \n",
       "\n",
       "         NOC  Athlete_id Name_order  Height_cm  Weight_kg Birth_Year  \\\n",
       "4515  Malawi        4530        NaN      127.0       62.0 1963-05-14   \n",
       "\n",
       "     Died_Year City Region Country  count  \n",
       "4515       NaT  NaN    NaN     NaN      1  "
      ]
     },
     "execution_count": 30,
     "metadata": {},
     "output_type": "execute_result"
    }
   ],
   "source": [
    "df.nsmallest(1,'Height_cm')"
   ]
  },
  {
   "cell_type": "markdown",
   "id": "b927c062-9591-4646-80f3-9dd7d679f104",
   "metadata": {},
   "source": [
    "# PERCENTAGE OF MALE AND FEMALE THAT JOINED IN OLYMPICS"
   ]
  },
  {
   "cell_type": "code",
   "execution_count": 32,
   "id": "78c07422-4758-42e6-81bb-e8def35df17b",
   "metadata": {},
   "outputs": [
    {
     "data": {
      "image/png": "[encoded data removed]",
      "text/plain": [
       "<Figure size 640x480 with 1 Axes>"
      ]
     },
     "metadata": {},
     "output_type": "display_data"
    }
   ],
   "source": [
    "gender = df.groupby('Sex')['count'].sum().sort_values(ascending=False)\n",
    "plt.pie(gender, labels=gender.index,autopct='%.0f%%')\n",
    "plt.title(\"PERCENTAGE OF MALE AND FEMALE THAT JOINED IN OLYMPICS\")\n",
    "plt.show()"
   ]
  },
  {
   "cell_type": "markdown",
   "id": "66aae1e2-01b3-4317-b578-f1428b2476c6",
   "metadata": {},
   "source": [
    "# THANKS FOR VIEWING"
   ]
  },
  {
   "cell_type": "markdown",
   "id": "39cd090f-f8c8-419e-9c62-308c437d37d5",
   "metadata": {},
   "source": [
    "# MY MOTO IN STUDYING IS STUDY TILL BURN OUT, TIRED AND LACK OF MOTIVATION"
   ]
  },
  {
   "cell_type": "markdown",
   "id": "8b3af060-1f91-45a5-a5a4-326004723ac2",
   "metadata": {},
   "source": [
    "# STILL UPSKILLING AND IMPROVING"
   ]
  },
  {
   "cell_type": "code",
   "execution_count": null,
   "id": "685b2b9a-fcdf-469c-b662-97ed185fb2af",
   "metadata": {},
   "outputs": [],
   "source": []
  },
  {
   "cell_type": "code",
   "execution_count": null,
   "id": "b3c96ab1-b739-4473-9998-82b175e5eb6c",
   "metadata": {},
   "outputs": [],
   "source": []
  }
 ],
 "metadata": {
  "kernelspec": {
   "display_name": "Python 3 (ipykernel)",
   "language": "python",
   "name": "python3"
  },
  "language_info": {
   "codemirror_mode": {
    "name": "ipython",
    "version": 3
   },
   "file_extension": ".py",
   "mimetype": "text/x-python",
   "name": "python",
   "nbconvert_exporter": "python",
   "pygments_lexer": "ipython3",
   "version": "3.12.4"
  }
 },
 "nbformat": 4,
 "nbformat_minor": 5
}
